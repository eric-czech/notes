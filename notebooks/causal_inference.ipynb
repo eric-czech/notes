{
 "metadata": {
  "name": "",
  "signature": "sha256:635545ac7612ff4b02b278d8087a7945d7ef5cdebb6839ecbe14323141fc0002"
 },
 "nbformat": 3,
 "nbformat_minor": 0,
 "worksheets": [
  {
   "cells": [
    {
     "cell_type": "markdown",
     "metadata": {},
     "source": [
      "# Causal Inference\n",
      "\n",
      "Major Contributions:\n",
      "\n",
      "- David Cox (1958)\n",
      "- Donald Rubin (1974)\n",
      "- Judea Pearl (2000)\n",
      "\n",
      "Gelman Summaries:\n",
      "\n",
      "- [Introduction to Causal Inference](http://www.stat.columbia.edu/~gelman/arm/chap9.pdf)\n",
      "- [Methods in Causal Inference](http://www.stat.columbia.edu/~gelman/arm/chap10.pdf)\n",
      "    - Covers propensity score matching and nearest neighbors matching"
     ]
    },
    {
     "cell_type": "code",
     "collapsed": false,
     "input": [],
     "language": "python",
     "metadata": {},
     "outputs": []
    }
   ],
   "metadata": {}
  }
 ]
}