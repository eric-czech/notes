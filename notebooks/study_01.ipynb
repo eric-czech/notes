{
 "metadata": {
  "name": "",
  "signature": "sha256:2f1b6f5b451f3a6fb4c16f12d01f5884a829752c8643b44db7a8c9e4dae86135"
 },
 "nbformat": 3,
 "nbformat_minor": 0,
 "worksheets": [
  {
   "cells": [
    {
     "cell_type": "markdown",
     "metadata": {},
     "source": [
      "# Study Topics\n",
      "\n",
      "- Extreme Value Theory\n",
      "- Sequential Analysis\n",
      "- Martingales\n",
      "- \"Intent to Treat\"\n",
      "- Neyman Pearson Lemma\n"
     ]
    },
    {
     "cell_type": "code",
     "collapsed": false,
     "input": [],
     "language": "python",
     "metadata": {},
     "outputs": []
    }
   ],
   "metadata": {}
  }
 ]
}