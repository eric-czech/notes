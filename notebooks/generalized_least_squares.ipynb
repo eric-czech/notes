{
 "metadata": {
  "name": "",
  "signature": "sha256:d2c2f2215c72c0767e80b70bdb25635b8f75be2fe75ec2d71e9309bf993fb681"
 },
 "nbformat": 3,
 "nbformat_minor": 0,
 "worksheets": [
  {
   "cells": [
    {
     "cell_type": "markdown",
     "metadata": {},
     "source": [
      "# Heteroskedasticity and Variance Modeling\n",
      "\n",
      "- Variance as power of the mean model\n",
      "    - [Paper](https://link.springer.com/article/10.1007/BF02515760)\n",
      "    - See page 1 of paper for how variance can be expressed as linear model of mean\n",
      "    \n",
      "- Depedent variable transformations and assumptions of relationship between that variable and variance\n",
      "    - [Book Excerpt](https://books.google.com/books?id=qVbSBQAAQBAJ&pg=PA155&lpg=PA155&dq=bayesian+weighted+regression+power+of+the+mean&source=bl&ots=lb6aPCdsES&sig=gNpvy6mInMhJXcHtxjjRQ_IjB-E&hl=en&sa=X&ved=0ahUKEwiEwKL8z_TUAhWDOz4KHQ4hCkIQ6AEIWzAF#v=onepage&q=bayesian%20weighted%20regression%20power%20of%20the%20mean&f=false)\n",
      "    - See table 4.15\n",
      "    \n",
      "- Generalized Least Squares and models for variance like sigma^2 = c * exp(b0 + b1 * x)\n",
      "    - http://www2.kobe-u.ac.jp/~kawabat/ch08.pdf\n",
      "    \n",
      "- **Iterative Weighted Least Squares Process** in R:\n",
      "    - http://www.stats.uwo.ca/faculty/bellhouse/Generalized%20Least%20Squares_DaeroKim.pdf"
     ]
    },
    {
     "cell_type": "code",
     "collapsed": false,
     "input": [],
     "language": "python",
     "metadata": {},
     "outputs": []
    }
   ],
   "metadata": {}
  }
 ]
}