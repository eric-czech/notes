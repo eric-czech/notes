{
 "metadata": {
  "name": "",
  "signature": "sha256:27a9f1c053923dadde99c7f29a66adba61fcda3c07b90e6dda873c0bac55ffb3"
 },
 "nbformat": 3,
 "nbformat_minor": 0,
 "worksheets": [
  {
   "cells": [
    {
     "cell_type": "markdown",
     "metadata": {},
     "source": [
      "* * * \n",
      "##<center>Variational Inference</center>\n",
      "\n",
      "- ELBO is like EM lower bound except that it is for model evidence rather than data likelihood\n",
      "- ELBO definition:\n",
      "    $$ ELBO = E_{q(z;\\lambda)}[log(p(x, z)) - log(p(z;\\lambda))] $$\n",
      "    where $q(z;\\lambda)$ is the variational distribution with variational parameters $\\lambda$\n",
      "    \n",
      "- Note that if you add the KL diverence between $q(z;lambda)$ and $p(z|x)$, you end up with the model evidence exactly:\n",
      "    $$ p(x) = KL(q(z;\\lambda)||p(z|x)) + ELBO $$\n",
      "    \n",
      "- In the above, it isn't obvious why maximixing the ELBO maximizes the model evidence, but this is because, first of all, the model evidence is always the same regardless of the variational parameters $\\lambda$:\n",
      "    $$ p(x) = E_{q(z;\\lambda)}[log(q(z;\\lambda)) - log(p(z|x))] + ELBO $$\n",
      "    $$ = E_{q(z;\\lambda)}[log(q(z;\\lambda)) - log(p(z|x))] + E_{q(z;\\lambda)}[log(p(x, z)) - log(p(z;\\lambda))] $$\n",
      "    $$ = E_{q(z;\\lambda)}[log(q(z;\\lambda))] - E_{q(z;\\lambda)}[log(p(z|x))] + E_{q(z;\\lambda)}[log(p(x, z))] - E_{q(z;\\lambda)}[log(p(z;\\lambda))] $$\n",
      "    $$ = E_{q(z;\\lambda)}[log(\\frac{p(x, z)}{p(z|x)})] $$\n",
      "    $$ = p(x) \\cdot 1 $$\n",
      "    \n",
      "- So given that the variational parameters do not change the overall model evidence, only how much is attributed to the KL component vs the ELBO component, then maximizing the ELBO is the right objective since it also minimizes the KL divergence making $q(z;\\lambda)$ as close to the much more meaningful distribution $p(z|x)$ as possible.\n"
     ]
    },
    {
     "cell_type": "code",
     "collapsed": false,
     "input": [],
     "language": "python",
     "metadata": {},
     "outputs": []
    }
   ],
   "metadata": {}
  }
 ]
}