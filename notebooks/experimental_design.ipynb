{
 "metadata": {
  "name": "",
  "signature": "sha256:6d11f37d02b2ff75d42a5bf6afd1554cdbda573356589fa2192fdf05cf4c6aa5"
 },
 "nbformat": 3,
 "nbformat_minor": 0,
 "worksheets": [
  {
   "cells": [
    {
     "cell_type": "markdown",
     "metadata": {},
     "source": [
      "* * * \n",
      "##<center>Design and Analysis of Experiments</center>\n",
      "\n",
      "### Taken from \"A First Course in Design and Analysis of Experiments\" by Gary Oehlert\n",
      "\n",
      "<br><center>**Definition of \"Causal\"**</center>\n",
      "\n",
      "- The difference between causal and observational studies is the assignment of treatment groups\n",
      "- Supporting a causal relationship requires verifying at least two of the following (According to Tukey and Mosteller 1977):\n",
      "    - Consistency - The relationship between two variables across populations has the same direction\n",
      "    - Responsiveness - Altering the causal factor induces a change in the response\n",
      "    - Mechanism - The physical means by which a causal factor influences a response (often this unkown and taken as existing based on responsiveness)\n",
      "    \n",
      "<br><center>**Components of an Experiment**</center>\n",
      "- Treatments, experimental units, measurement units, responses, and treatment assignment method\n",
      "    - For some authors \"treatment design\" is how the treatments are chosen and \"experiment design\" is how they are assigned \n",
      "    - **Experimental units** are entire groups receiving different treatments (groups of people, plots of land)\n",
      "    - **Measurement units** are actual objects within experimental units from which response will be measured\n",
      "    - **\"Control\"** - This word is meant to indicate that the assignment of treatments was explicit; otherwise the study is observational\n",
      "    - **\"Factor\"** - A factor is a particular aspect of the treatment where one factor may have several levels, and the combination of one level for each factor forms the overall treatment\n",
      "    - **\"Confounding\"** - This occurs when the effect of one factor cannot be separated from another (e.g. measuring two groups with two separate instruments where both the group and instrument are factors)\n",
      "- Objectives of a good experiment:\n",
      "    - **Minimize systematic error** - For example, measuring response in treatment group A and group B with separate instruments is an example of potential systematic error (randomization is the tool for combating this)\n",
      "    - **Be precise** - This means minimizing the completely unexplainable random variation in responses.  \n",
      "    - **Allow estimation of error** - Statistical inference is only possible when the experiment allows for the variation above to be measured (experiment should have replications)\n",
      "    - **Have desired applicability to superpopulation** - The definition of the experimental population should be roughly the same as the population for which inference is to be made.  For example, examining just young males in a study does not make the results applicable to ALL people.  Often increasing the applicability of the experimental population means decreasing precision.\n",
      "    \n",
      "\n",
      "    \n",
      "    \n",
      "    "
     ]
    },
    {
     "cell_type": "code",
     "collapsed": false,
     "input": [],
     "language": "python",
     "metadata": {},
     "outputs": []
    }
   ],
   "metadata": {}
  }
 ]
}