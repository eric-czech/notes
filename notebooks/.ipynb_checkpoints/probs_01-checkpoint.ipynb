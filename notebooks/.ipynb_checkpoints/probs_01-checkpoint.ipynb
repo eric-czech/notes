{
 "metadata": {
  "name": "",
  "signature": "sha256:64ac3d3c5467be566344d5ebbe16007abbe4503fe5b1995a67b0906a5418c5db"
 },
 "nbformat": 3,
 "nbformat_minor": 0,
 "worksheets": [
  {
   "cells": [
    {
     "cell_type": "code",
     "collapsed": false,
     "input": [
      "import pandas as pd\n",
      "import numpy as np\n",
      "from pltr import plot\n",
      "from pltr.graph_objs import Data, Scatter, Figure, Layout, Box, Bar, YAxis, XAxis, Histogram, Histogram2d, Histogram2dContour \n",
      "plot.configure('/Users/eczech/repo/NBS-Python/pltr', '/Users/eczech/Sites/pltr', target_url='http://localhost')"
     ],
     "language": "python",
     "metadata": {},
     "outputs": [],
     "prompt_number": 1
    },
    {
     "cell_type": "markdown",
     "metadata": {},
     "source": [
      "# Magnetron Tubes \n",
      "\n",
      "Analyze the following number of hours of magnetron tube life before failure across 3 brands to see if there is a difference amongst them.\n",
      "\n",
      "### Visualization"
     ]
    },
    {
     "cell_type": "code",
     "collapsed": false,
     "input": [
      "from scipy.stats import gaussian_kde\n",
      "data = pd.DataFrame({\n",
      "'A' : [36, 48, 5, 67, 53],\n",
      "'B' : [49, 33, 60, 2, 55],\n",
      "'C' : [71, 31, 140, 59, 42],\n",
      "})\n",
      "\n",
      "x = np.linspace(-40, 150, 100)\n",
      "lines = [ Scatter(x=x, y=gaussian_kde(data[c])(x), name='Brand '+c) for c in data ]\n",
      "plot.show(Figure(data=Data(lines), layout=Layout(title='Time to Failure Densities', width=800, height=400)))"
     ],
     "language": "python",
     "metadata": {},
     "outputs": [
      {
       "output_type": "stream",
       "stream": "stdout",
       "text": [
        "copying  /Users/eczech/repo/NBS-Python/pltr/site/main/lib/plugins  to  /Users/eczech/Sites/pltr/default/plugins\n",
        "copying  /Users/eczech/repo/NBS-Python/pltr/site/main/lib/style  to  /Users/eczech/Sites/pltr/default/style\n"
       ]
      },
      {
       "html": [
        "<iframe id=\"igraph\" scrolling=\"yes\" style=\"border:none;\" seamless=\"seamless\" src=\"http://localhost/pltr/default/page/plot.html\" height=\"400\" width=\"800\"></iframe>"
       ],
       "metadata": {},
       "output_type": "pyout",
       "prompt_number": 28,
       "text": [
        "<IPython.core.display.HTML at 0x109d26ed0>"
       ]
      }
     ],
     "prompt_number": 28
    },
    {
     "cell_type": "markdown",
     "metadata": {},
     "source": [
      "### Testing Assumptions\n",
      "\n",
      "#### Normality"
     ]
    },
    {
     "cell_type": "code",
     "collapsed": false,
     "input": [
      "from scipy.stats import shapiro, anderson\n",
      "is_normal_shapiro  = data.apply(lambda x: shapiro(x)[1] >= .05)\n",
      "is_normal_anderson = data.apply(lambda x: anderson(x)[0] <= anderson(x)[1][2])\n",
      "print 'All datasets are normal according to Shapiro-Wilk and Anderson-Darling tests = {}'\\\n",
      ".format(np.all(is_normal_shapiro & is_normal_anderson))"
     ],
     "language": "python",
     "metadata": {},
     "outputs": [
      {
       "output_type": "stream",
       "stream": "stdout",
       "text": [
        "All datasets are normal according to Shapiro-Wilk and Anderson-Darling tests = True\n"
       ]
      }
     ],
     "prompt_number": 103
    },
    {
     "cell_type": "code",
     "collapsed": false,
     "input": [
      "from scipy.stats import f_oneway, kruskal\n",
      "\n",
      "(F, p1), (H, p2) = f_oneway(*np.array(data.T)), kruskal(*np.array(data.T))\n",
      "print 'One way ANOVA ==> F = {}, p = {}'.format(F, p1)\n",
      "print 'One way KW    ==> H = {}, p = {}'.format(H, p2)"
     ],
     "language": "python",
     "metadata": {},
     "outputs": [
      {
       "output_type": "stream",
       "stream": "stdout",
       "text": [
        "One way ANOVA ==> F = 1.32590491165, p = 0.301814317678\n",
        "One way KW    ==> H = 1.22, p = 0.543350869075\n"
       ]
      }
     ],
     "prompt_number": 46
    },
    {
     "cell_type": "markdown",
     "metadata": {},
     "source": [
      "### Conclusion\n",
      "Given this evidence, there's no reason to reject the hypothesis that the reliability of the brands is the same"
     ]
    },
    {
     "cell_type": "markdown",
     "metadata": {},
     "source": []
    },
    {
     "cell_type": "code",
     "collapsed": false,
     "input": [
      "from matplotlib.ticker import NullFormatter\n",
      "from matplotlib import gridspec\n",
      "\n",
      "\n",
      "x = np.random.lognormal(5, size=n)\n",
      "xmax, xmin = np.max(x), np.min(x)\n",
      "\n",
      "y = .4 + .3 * (x - xmin) / (xmax - xmin) + np.random.normal(scale=.05, size=n)\n",
      "#print y\n",
      "data = pd.DataFrame({'Population': x, 'Proportion' :  y})\n",
      "\n",
      "gs = gridspec.GridSpec(2, 2, width_ratios=[4, 1], height_ratios=[1, 4]) \n",
      "axes = [plt.subplot(g) for g in gs]\n",
      "axm, axt, axr = axes[2], axes[0], axes[3]\n",
      "axes[1].axis('off')\n",
      "\n",
      "#ax2.yaxis.set_major_formatter(NullFormatter())\n",
      "data.plot(kind='scatter', x='Population', y='Proportion', ax=axm, xlim=(np.min(x), np.max(x)), ylim=(0, 1))\n",
      "data['Proportion'].hist(orientation='horizontal', ax=axr)\n",
      "data['Population'].hist(orientation='vertical', ax=axt)\n",
      "axm.set_xlabel('County Population (in Thousands)')\n",
      "axm.set_ylabel('Proportion Democratic ($\\frac{X_i}{Y_i}$)')\n",
      "axr.set_xticklabels([])\n",
      "axt.set_yticklabels([])\n",
      "#axr.set_yticklabels([])\n",
      "axr.grid(axis='x')\n",
      "axt.grid(axis='y')\n",
      "#ax2.set_\n",
      "axr.set_ylim((0, 1))\n",
      "axr.set_xlim((0, 400))\n",
      "\n",
      "axm.hlines(.56, xmin=xmin, xmax=xmax, linestyles='--')\n",
      "axr.hlines(.56, xmin=0, xmax=400, linestyles='--')\n",
      "axm.hlines(.31, xmin=xmin, xmax=xmax, linestyles='--')\n",
      "axr.hlines(.31, xmin=0, xmax=400, linestyles='--')\n",
      "axr.text(410, .53, '-'*13, rotation=90)\n",
      "axr.text(450, .35, '$\\gamma$ level confidence\\n    interval for $\\hat{p}$')\n",
      "# ax.hlines(.42, xmin=l, xmax=h, linestyles='--')\n",
      "# ax.text(h + .02*r, .42, 'Lower $\\gamma$ level bound')\n",
      "\n",
      "#legend.set_visible(False)"
     ],
     "language": "python",
     "metadata": {},
     "outputs": [
      {
       "metadata": {},
       "output_type": "pyout",
       "prompt_number": 137,
       "text": [
        "<matplotlib.text.Text at 0x11f6b43d0>"
       ]
      },
      {
       "output_type": "stream",
       "stream": "stderr",
       "text": [
        "/Users/eczech/nbs/lib/python2.7/site-packages/IPython/core/formatters.py:239: FormatterWarning:\n",
        "\n",
        "Exception in image/png formatter: \n",
        "Proportion Democratic ($\f",
        "rac{X_i}{Y_i}$)\n",
        "                       ^\n",
        "Expected end of text (at char 23), (line:1, col:24)\n",
        "\n"
       ]
      },
      {
       "metadata": {},
       "output_type": "display_data",
       "text": [
        "<matplotlib.figure.Figure at 0x11dbb9590>"
       ]
      }
     ],
     "prompt_number": 137
    },
    {
     "cell_type": "code",
     "collapsed": false,
     "input": [],
     "language": "python",
     "metadata": {},
     "outputs": [],
     "prompt_number": 100
    },
    {
     "cell_type": "code",
     "collapsed": false,
     "input": [],
     "language": "python",
     "metadata": {},
     "outputs": []
    }
   ],
   "metadata": {}
  }
 ]
}