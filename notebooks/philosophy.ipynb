{
 "metadata": {
  "name": "",
  "signature": "sha256:d986d8a2f92780c36d1e78706b4adefd8c2cc9a4c0bed923702547327d526628"
 },
 "nbformat": 3,
 "nbformat_minor": 0,
 "worksheets": [
  {
   "cells": [
    {
     "cell_type": "markdown",
     "metadata": {},
     "source": [
      "<center><h1>Statistical Rethinking</h1></center>"
     ]
    },
    {
     "cell_type": "markdown",
     "metadata": {},
     "source": [
      "### Null Hypothesis Testing\n",
      "\n",
      "- The greatest obstacle that I encounter among students and colleagues is the tacit belief that the proper objective of statistical inference is to test null hypotheses.\n",
      "    - This is the proper objective, the thinking goes, because Karl Popper argued that science advances by falsifying hypotheses.\n",
      "    - But the above is a kind of folk Popperism, an informal philosophy of science common among scientists but not among philosophers of science. Science is not described by the falsification standard, as Popper recognized and argued. In fact, deductive falsification is impossible in nearly every scientific context. In this section, I review a two reasons for this impossibility.\n",
      "        - Hypotheses are not models. The relations among hypotheses and different kinds of models is complex. Many models correspond to the same hypothesis, and many hypotheses correspond to a single model. This makes strict falsification impossible. (this happens even more with continuous hypotheses, which are usually more interesting)\n",
      "         - Measurement matters. Even when we think the data falsify a model, another ob- server will debate our methods and measures. Tey don\u2019t trust the data. Sometimes they are right.\n",
      "        - For both of these reasons, deductive falsification never works. The scientific method cannot be reduced to a statistical procedure, and so our statistical methods should not pretend.\n",
      "        \n",
      "        \n",
      "- Science uses hypotheses that don't directly translate to statistical models, so falsification is never really possible\n",
      "    - \"Popper himself saw science as being broader than falsification\"\n",
      "    - \"Science is not described by the falsification standard, as Popper recognized and argued\"\n",
      "    \n",
      "- __Falsification is consensual, not logical__"
     ]
    },
    {
     "cell_type": "markdown",
     "metadata": {},
     "source": [
      "### Bayesian Philosophy\n",
      "\n",
      "- Bayesian golems treat \u201crandomness\u201d as a property of information, not of the world\n",
      "- In more advanced Bayesian texts, you\u2019ll come across names like Bruno de Finetti, Richard T. Cox, and Leonard \u201cJimmie\u201d Savage. Each of these figures is associated with a somewhat different conception of Bayesian probability.\n",
      "\n",
      "- Within the confines of a model, Bayesian inference is optimal with regards to decision making (see [The Bayesian Choice](http://uqu.edu.sa/files2/tiny_mce/plugins/filemanager/files/4290552/real/icdl/albrak/static/Robert%20C.%20-%20The%20Bayesian%20Choice%20(2nd%20edition,%20Springer,%202007).pdf))"
     ]
    },
    {
     "cell_type": "markdown",
     "metadata": {},
     "source": [
      "### Multilevel Modeling\n",
      "\n",
      "Justifications:\n",
      "    - To adjust estimates for repeat sampling. -- Sampling all base units N times, say\n",
      "    - To adjuste stimates for imbalance in sampling. -- Sampling some base units N times, some N-2 times, etc.\n",
      "    - To study variation. -- Explains variation between heterogenous groups\n",
      "    - To avoid averaging. -- \"Preaveraging\" is common prior to regression analysis, and removes variability"
     ]
    },
    {
     "cell_type": "markdown",
     "metadata": {},
     "source": [
      "## Determinism \n",
      "\n",
      "- Laplacian determinism is the tradition of eplaining away unpredictability in terms of ignorance of relevant conditions (it was under fire in the early 1800's but still dominated until the end of the 19th century) [empire of change, pg. 124]\n"
     ]
    },
    {
     "cell_type": "code",
     "collapsed": false,
     "input": [],
     "language": "python",
     "metadata": {},
     "outputs": []
    }
   ],
   "metadata": {}
  }
 ]
}