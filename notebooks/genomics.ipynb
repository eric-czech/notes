{
 "metadata": {
  "name": "",
  "signature": "sha256:e9b455941048cb3bf4f47f77b0228eadfff8d331c36da6542d6c50e1d55b129c"
 },
 "nbformat": 3,
 "nbformat_minor": 0,
 "worksheets": [
  {
   "cells": [
    {
     "cell_type": "markdown",
     "metadata": {},
     "source": [
      "Algos:\n",
      "Gene Shaving\n",
      "\n",
      "Tools:\n",
      "BRB Array Tools\n",
      "Bioconductor\n",
      "GenePattern\n",
      "dChip\n",
      "Microarray DBs\n",
      "\n",
      "- BodyMap - http://bodymap.ims.u-tokyo.ac.jp/\n",
      "- SMD - http://genome-www5.stanford.edu/\n",
      "- RIKEN - http://read.gsc.riken.go.jp/\n",
      "- MGI - http://www.informatics.jax.org/\n",
      "- GEO - http://www.ncbi.nlm.nih.gov/geo/\n",
      "- CIBEX - http://cibex.nig.ac.jp/index.jsp\n",
      "- ArrayExpress - http://www.ebi.ac.uk/microarray-as/ae/"
     ]
    },
    {
     "cell_type": "markdown",
     "metadata": {},
     "source": [
      "Methods:\n",
      "\n",
      "- Genetic Algorithm for feature selection + SVM (2015) [Link](http://www.ingentaconnect.com/content/asp/jctn/2015/00000012/00000010/art00028)\n",
      "- "
     ]
    },
    {
     "cell_type": "markdown",
     "metadata": {},
     "source": [
      "# Genomics Research Notes\n",
      "\n",
      "## Gene Expression\n",
      "\n",
      "- Commonly done using microarrays\n",
      "- Often times genes for microarrays are selected judiciously\n",
      "- RNA-Seq is an alternative to microarrays that doesn't use flourescence but rather directly measures gene expression \n",
      "    - Microarrays are more approximate compared to RNA SEQ\n",
      "    - RNA-Seq looks for prevalence of a single gene in RNA\n",
      "    - Copy Number, by comparison, is when a gene is copied and adjecent in a genome\n",
      "    \n",
      "## Xenografts\n",
      "\n",
      "- PDX models for mice are used by transplanting tumor cells directly from a patient to mice and testing therapies\n",
      "- Xenograft is like PDX except that cells are grown on a dish before being grown in mica\n",
      "- Not all tumor cells placed in mice ever grow, it's dependent on the type of cancer\n",
      "\n",
      "## IC 50\n",
      "\n",
      "- \"drug concentration causing 50% inhibition of the desired activity\"\n",
      "- A concentration of around 50 nanomolar is relatively low and indicates that a small amount of the drug is necessary to have an effect (low IC 50 is a good thing)\n",
      "- A concentration of around 400 micromolar is relatively high and is likely to induce many side effects (high IC 50 is a bad thing)\n",
      "\n"
     ]
    },
    {
     "cell_type": "markdown",
     "metadata": {},
     "source": [
      "# Drug Databases\n",
      "\n",
      "- [GDSC](http://www.cancerrxgene.org/) - Sanger Institute (UK) DB with \"screening >1000 genetically characterised human cancer cell lines with a wide range of anti-cancer therapeutics\"\n",
      "- [NCI60](https://dtp.cancer.gov/discovery_development/nci-60/) - US National Cancer Institute database with data for ~3k drugs and 60 cell lines\n"
     ]
    },
    {
     "cell_type": "markdown",
     "metadata": {},
     "source": [
      "# Commercial Microarray Applications\n",
      "\n",
      "- [Stillbirth Prediction](https://globenewswire.com/news-release/2016/01/28/805457/0/en/CombiMatrix-Announces-Commercial-Launch-of-Microarray-Testing-for-Stillbirth-Analysis.html)"
     ]
    },
    {
     "cell_type": "markdown",
     "metadata": {},
     "source": [
      "# DNA Array Companies\n",
      "\n",
      "- Affymetrix\n",
      "- Agilent\n",
      "- Illumina\n",
      "- Life Technologies"
     ]
    },
    {
     "cell_type": "code",
     "collapsed": false,
     "input": [],
     "language": "python",
     "metadata": {},
     "outputs": []
    }
   ],
   "metadata": {}
  }
 ]
}