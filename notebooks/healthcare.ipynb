{
 "metadata": {
  "name": "",
  "signature": "sha256:befac2028ad6025fdf0b962f0b3e4fe71af2a1f1540cca7e1c80119f678f8c91"
 },
 "nbformat": 3,
 "nbformat_minor": 0,
 "worksheets": [
  {
   "cells": [
    {
     "cell_type": "markdown",
     "metadata": {},
     "source": [
      "### Healthcare Modeling\n",
      "\n",
      "\"Predicting the costs of Health Care\"\n",
      "- From researchers at Centre for Health Program Evaluation\n",
      "\n",
      "- Factors often used in predictions:\n",
      "    - Demography (Age, Sex, Ethnicity)\n",
      "    - Emp status (Employed, Unemployed, Pensioner, Temporarily unable to work, Permanently sick)\n",
      "    - Health status (Self reported/survey-based morbidity, Permanent disability/dependency status, Low birth weight Previous inpatient/outpatient diagnosis, BMI)\n",
      "    - Socioeconomic (Homelessness, Martial status, Income, Housing tenure Socioeconomic Status/Social class, Education level Elderly living alone, No career in household.)\n",
      "    - Geography (Region/area of residence, Rurality, Urbanisation Remoteness, Population Density)\n",
      "    \n",
      "- Predictive ability:\n",
      "    - \"Using individual level data, it has been estimated that capitation models can predict up to 20-25% of variation in health service costs\"\n",
      "    "
     ]
    },
    {
     "cell_type": "code",
     "collapsed": false,
     "input": [],
     "language": "python",
     "metadata": {},
     "outputs": []
    }
   ],
   "metadata": {}
  }
 ]
}