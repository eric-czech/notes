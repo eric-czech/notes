{
 "metadata": {
  "name": "",
  "signature": "sha256:2db0c4da70a2fb9af3630ee076a096fec4b225a7a1e0563d90c8d1aad789e26d"
 },
 "nbformat": 3,
 "nbformat_minor": 0,
 "worksheets": [
  {
   "cells": [
    {
     "cell_type": "code",
     "collapsed": false,
     "input": [
      "import pandas as pd\n",
      "import numpy as np\n",
      "from matplotlib import pyplot as plt\n",
      "import itertools\n",
      "%pylab inline"
     ],
     "language": "python",
     "metadata": {},
     "outputs": [
      {
       "output_type": "stream",
       "stream": "stdout",
       "text": [
        "Populating the interactive namespace from numpy and matplotlib\n"
       ]
      }
     ],
     "prompt_number": 4
    },
    {
     "cell_type": "markdown",
     "metadata": {},
     "source": [
      "Exercises taken from \"Mathematical Statistics with Applications, 6th Edition\" by Wackerly, Mendenhall and Scheaffer"
     ]
    },
    {
     "cell_type": "markdown",
     "metadata": {},
     "source": [
      "###Chapter 1"
     ]
    },
    {
     "cell_type": "markdown",
     "metadata": {},
     "source": [
      "#### Empirical Rule"
     ]
    },
    {
     "cell_type": "code",
     "collapsed": false,
     "input": [
      "from scipy.stats import norm\n",
      "\n",
      "def emp_rule(u=10, s=5):\n",
      "\n",
      "    # Create distribution and assign PDF values for linspace\n",
      "    d = norm(loc=u, scale=s)\n",
      "    x = np.linspace(u - s * 4, u + s * 4, 100)\n",
      "    \n",
      "    # .pdf returns the actual PDF evaulated at each quantile (q)\n",
      "    y = d.pdf(x)\n",
      "\n",
      "    # Compute locations (x and y values) for \"Emprical Rule\" thresholds\n",
      "    # (i.e. the 68, 95, 99.7% rule)\n",
      "    b = np.array([.68, .95, .997])\n",
      "    b = list((1 - b)/2) + [.5] + list((( 1 - b ) / 2) + b)\n",
      "    b = np.sort(np.round(b,4))\n",
      "    # b = [ 0.0125  0.025   0.16    0.5     0.84    0.975   0.9875 ]\n",
      "\n",
      "    # For each cumulative probability, map it to the quantile at which that\n",
      "    # cumulative percentage occurs (.ppf is the inverse of .cdf)\n",
      "    b = dict([ (i, d.ppf(i)) for i in b ])\n",
      "\n",
      "    fig = plt.figure(figsize=(8, 4))\n",
      "    ax = plt.subplot(111)\n",
      "    # Plot PDF\n",
      "    ax.plot(x, y, 'k-')\n",
      "\n",
      "    # Add annotation lines and labels for breaks\n",
      "    for i in sorted(b.keys()):\n",
      "        v = b[i]\n",
      "        ax.vlines(x=v, ymin=0, ymax=d.pdf(v))\n",
      "        if v > u:\n",
      "            pct = str(np.round(100 * (i - .5) * 2, 1)) + '%'\n",
      "            offset = (np.max(b.values()) - np.min(b.values())) / 25\n",
      "            ax.text(x=v + offset, y=d.pdf(v), s=pct)\n",
      "            ax.hlines(y=d.pdf(v), xmin=u-(v-u), xmax=v, color='r', linestyles='dashed')\n",
      "emp_rule()"
     ],
     "language": "python",
     "metadata": {},
     "outputs": [
      {
       "metadata": {},
       "output_type": "display_data",
       "png": "[encoded data removed]",
       "text": [
        "<matplotlib.figure.Figure at 0x10839b110>"
       ]
      }
     ],
     "prompt_number": 1
    },
    {
     "cell_type": "markdown",
     "metadata": {},
     "source": [
      "## Chapter 2"
     ]
    },
    {
     "cell_type": "markdown",
     "metadata": {},
     "source": [
      "#### Permutations\n",
      "Number of ways to reorder a sequence of items, where $r$ items are taken of $n$ possible:\n",
      "\n",
      "Without repitition: $$P_{r}^{n} = n * (n - 1) (n - 2) \\cdots (n - r + 1) = n! / (n - r)!$$\n",
      "\n",
      "With repitition: $$n^r$$"
     ]
    },
    {
     "cell_type": "code",
     "collapsed": false,
     "input": [
      "# Create a list, find all permutations of that list, and make \n",
      "# sure the number of permutations matches what is expected\n",
      "d = [1,2,3]\n",
      "n = len(d)\n",
      "\n",
      "# Without repitition/replacement\n",
      "p = list(itertools.permutations(d, n))\n",
      "print 'Permutations w/o repitition of {} = {}'.format(d, p)\n",
      "print 'Actual length = {}, Expected length = {}'.format(len(p), math.factorial(n))\n",
      "\n",
      "# With repitition/replacement\n",
      "pp = list(itertools.product(d, repeat=n))\n",
      "print 'Permutations with repitition of {} = {}'.format(d, p)\n",
      "print 'Actual length = {}, Expected length = {}'.format(len(p), n ** n)"
     ],
     "language": "python",
     "metadata": {},
     "outputs": [
      {
       "output_type": "stream",
       "stream": "stdout",
       "text": [
        "Permutations w/o repitition of [1, 2, 3] = [(1, 2, 3), (1, 3, 2), (2, 1, 3), (2, 3, 1), (3, 1, 2), (3, 2, 1)]\n",
        "Actual length = 6, Expected length = 6\n",
        "Permutations with repitition of [1, 2, 3] = [(1, 1, 1), (1, 1, 2), (1, 1, 3), (1, 2, 1), (1, 2, 2), (1, 2, 3), (1, 3, 1), (1, 3, 2), (1, 3, 3), (2, 1, 1), (2, 1, 2), (2, 1, 3), (2, 2, 1), (2, 2, 2), (2, 2, 3), (2, 3, 1), (2, 3, 2), (2, 3, 3), (3, 1, 1), (3, 1, 2), (3, 1, 3), (3, 2, 1), (3, 2, 2), (3, 2, 3), (3, 3, 1), (3, 3, 2), (3, 3, 3)]\n",
        "Actual length = 27, Expected length = 27\n"
       ]
      }
     ],
     "prompt_number": 114
    },
    {
     "cell_type": "markdown",
     "metadata": {},
     "source": [
      "#### Group Placement\n",
      "\n",
      "Number of ways ($N$) to place $n$ objects into $k$ distinct groups where the ordering within each group does not matter and the combined size of all the groups equals $n$:\n",
      "\n",
      "$$N = {n \\choose n_1 n_2 \\cdots n_k} = \\frac{n!}{n_1!n_2! \\cdots n_k!}$$\n",
      "\n",
      "Note that the parenthetical notation does note mean _choose_ like it usually does.  This is a <strong>multinomial coefficient</strong> expression, seen in the formula for multinomial expansion:\n",
      "\n",
      "$$(x_1 + x_2 + \\cdots + x_k)^n = \\sum{ {n \\choose n_1 n_2 \\cdots n_k} y_1^{n_1} \\cdot y_2^{n_2} \\cdots y_k^{n_k} }$$\n",
      "\n",
      "__REMEMBER__: The sum here is over every possible combination of $n_i$ such that the sum of all the $n_i$'s equals $n$.  The number of possible ways to do this when 0's __are not__ allowed is ${n-1 \\choose k-1}$.  The easiest way to prove this is to think of $n$ objects in a line and imagine how many ways $k$ _divisions_ between those items could be chosen.  When 0's __are__ allowed, the number of ways to choose $n_i$ values is equal to ${n + k - 1 \\choose n}$.  See <a href=\"http://en.wikipedia.org/wiki/Multinomial_theorem#Multinomial_coefficients\">Wiki Page on Multinomial Coefficients</a> for more details.\n",
      "\n",
      "\n",
      "The forumla for $N$ above is derived from the fact that $N$ can be expressed as the number of total permutations, or $P_n^n$, divided by the number of ways to permute the items within each group, or $n_1!n_2! \\cdots n_k!$.  More formally:\n",
      "\n",
      "$$P_n^n = N \\cdot (n_1!n_2! \\cdots n_k!) \\implies N = \\frac{P_n^n}{n_1!n_2! \\cdots n_k!} = \\frac{n!}{n_1!n_2! \\cdots n_k!}$$"
     ]
    },
    {
     "cell_type": "markdown",
     "metadata": {},
     "source": [
      "#### Combinations\n",
      "Combinations are unordered subsets of size $r$ chosen from $n$ available items.  This is an extension of the above <i>Group Placement</i> result where there are 2 groups, one of size $r$ and one of size $n - r$:\n",
      "\n",
      "Without repitition: $$C_r^n $$$$= {n \\choose r\\,\\,n-r} \\text{(ie multinomial)}$$$$ = {n \\choose r} \\text{(ie choose)} $$$$= \\frac{n!}{r!(n-r)!}$$\n",
      "\n",
      "With repitition: $${n + r - 1 \\choose r }$$"
     ]
    },
    {
     "cell_type": "code",
     "collapsed": false,
     "input": [
      "# Create a list and find all combinations of size len(list) - 2\n",
      "d = [1,2,3,4,5]\n",
      "n = len(d)\n",
      "r = n - 2\n",
      "\n",
      "def nCr(n, r):\n",
      "    return math.factorial(n) / ( math.factorial(r) * math.factorial(n-r) )\n",
      "\n",
      "# Without repitition/replacement\n",
      "p = list(itertools.combinations(d, r))\n",
      "print 'Combinations w/o repitition of {} = {}'.format(d, p)\n",
      "print 'Actual length = {}, Expected length = {}'.format(len(p), nCr(n, r))\n",
      "\n",
      "# With repitition/replacement\n",
      "p = list(itertools.combinations_with_replacement(d, r))\n",
      "print 'Permutations with repitition of {} = {}'.format(d, p)\n",
      "print 'Actual length = {}, Expected length = {}'.format(len(p), nCr(n+r-1, r))"
     ],
     "language": "python",
     "metadata": {},
     "outputs": [
      {
       "output_type": "stream",
       "stream": "stdout",
       "text": [
        "Combinations w/o repitition of [1, 2, 3, 4, 5] = [(1, 2, 3), (1, 2, 4), (1, 2, 5), (1, 3, 4), (1, 3, 5), (1, 4, 5), (2, 3, 4), (2, 3, 5), (2, 4, 5), (3, 4, 5)]\n",
        "Actual length = 10, Expected length = 10\n",
        "Permutations with repitition of [1, 2, 3, 4, 5] = [(1, 1, 1), (1, 1, 2), (1, 1, 3), (1, 1, 4), (1, 1, 5), (1, 2, 2), (1, 2, 3), (1, 2, 4), (1, 2, 5), (1, 3, 3), (1, 3, 4), (1, 3, 5), (1, 4, 4), (1, 4, 5), (1, 5, 5), (2, 2, 2), (2, 2, 3), (2, 2, 4), (2, 2, 5), (2, 3, 3), (2, 3, 4), (2, 3, 5), (2, 4, 4), (2, 4, 5), (2, 5, 5), (3, 3, 3), (3, 3, 4), (3, 3, 5), (3, 4, 4), (3, 4, 5), (3, 5, 5), (4, 4, 4), (4, 4, 5), (4, 5, 5), (5, 5, 5)]\n",
        "Actual length = 35, Expected length = 35\n"
       ]
      }
     ],
     "prompt_number": 115
    },
    {
     "cell_type": "markdown",
     "metadata": {},
     "source": [
      "# Chapter 3"
     ]
    },
    {
     "cell_type": "markdown",
     "metadata": {},
     "source": [
      "#### Binomial Distribution\n",
      "\n",
      "$$p(y) = { n \\choose y }p^{n}q^{(n-y)}\\text{ , }  \\mu = np\\text{ , } \\sigma^2 = npq$$\n",
      "\n",
      "- Limit is Poisson distribution\n",
      "- Can be approximated by normal distribution $X \\sim N(np, npq)$ when $np > 5$ and $nq > 5$\n",
      "\n",
      "#### Hypergeometric Distribution\n",
      "\n",
      "$$ p(k) = \\frac{ {N \\choose k} { N-K \\choose n-k } }{{N \\choose n}} $$\n",
      "where $N$ = population size, $K$ = number of successes in population, $n$ = number of draws, $k$ = number of success in $n$ draws (target probability quantity)"
     ]
    },
    {
     "cell_type": "markdown",
     "metadata": {},
     "source": [
      "# Chapter 4"
     ]
    },
    {
     "cell_type": "markdown",
     "metadata": {},
     "source": [
      "#### Gamma Distribution Derivatives\n",
      "\n",
      "Gamma distribution has shape parameters $\\alpha$ and $\\beta$ :\n",
      "\n",
      "- __Chi-Squared Distribution__ with $v$ degrees of freedom is equivalent to Gamma distribution with $\\alpha = v/2$ and $\\beta = 2$\n",
      "- __Exponential Distribution__ with parameter $\\beta$ is equivalent to Gamma distribution with $\\alpha = 1$"
     ]
    },
    {
     "cell_type": "markdown",
     "metadata": {},
     "source": [
      "# Chapter 8"
     ]
    },
    {
     "cell_type": "markdown",
     "metadata": {},
     "source": [
      "#### Large-sample hypothesis testing\n",
      "\n",
      "\\* This is generally assumed to apply when $n$ >= 30\n",
      "\n",
      "Assuming samples are taken from distributions where the CLT holds (i.e. NOT log-normal data), then the distribution of a sample mean $u$ will be distributed as $N(u, \\sigma^2 / n)$.  This means that a Z-test can be used for a single mean like:\n",
      "$$ Z = \\frac{\\bar{Y} - u_0}{\\sqrt{S^2 / n}}$$\n",
      "where $u_0$ is the hypothesized mean, $S^2$ is the sample variance, and $n$ is the sample size.\n",
      "\n",
      "For differences of means, the same test can be applied except that: \n",
      "$$\\bar{Y} = \\bar{Y}_1 - \\bar{Y}_2 \\text{ and } S^2 = \\frac{S_1^2}{n_1} + \\frac{S_2^2}{n_2}$$ \n"
     ]
    },
    {
     "cell_type": "markdown",
     "metadata": {},
     "source": [
      "#### Small-sample hypothesis testing\n",
      "\n",
      "This proceeds just as above with large samples but uses a T test instead.  For a single sample case (which would include matched pair differences), this is the statistic:\n",
      "\n",
      "$$ T = \\frac{\\bar{Y} - u_0}{\\sqrt{S^2 / n}} \\text{ with }n - 1\\text{ degrees of freedom}$$\n",
      "\n",
      "Note that for small samples, __the populations for the samples must be normal__ or very close to it despite the fact that the CLT dictates that the sampling distribution of the mean will already be normal.  How \"small\" the sample can be is determined by how \"normal\" the two original populations are.  For example ([source](http://stats.stackexchange.com/questions/9573/t-test-for-non-normal-when-n50)):\n",
      "- Any size sample will be fine if the two populations are normal\n",
      "- Below a sample size of 20 or 30, the \"normalness\" of the original distributions must go up as the sample size goes down for the t-test to still be valid (and even then they must be very close to normal to begin with)\n",
      "- A sample size >= 20 or 30 will produce a sampling mean close to normal, so the t-test is valid for most non-normal distributions at that point.\n",
      "\n",
      "\n",
      "\n",
      "For differences of means in independent samples, the procedure is similar except that there is one more critical decision point -- whether or not the variances of the distributions are assumed equal.  The statistic is the same in either case but the DF and sample variances are calculated differently.\n",
      "\n",
      "##### Pooled Variance (when sample variances are supposedly equal)\n",
      "\\* This generally has greater statistical power than the unpooled analog\n",
      "\n",
      "$$ T = \\frac{\\bar{Y} - u_0}{\\sqrt{\\frac{S_1^2 (n_1 - 1) + S_2^2 (n_2 - 1)}{n_1 + n_2 - 2} ( \\frac{1}{n_1} + \\frac{1}{n_2} )}}  $$\n",
      "$DF = n_1 + n_2 - 2$\n",
      "\n",
      "##### Unpooled Variance (when sample variances are NOT supposedly equal)\n",
      "\n",
      "$$ T = \\frac{\\bar{Y} - u_0}{\\sqrt{\\frac{S_1^2}{n_1} + \\frac{S_2^2}{n_2}}}  $$\n",
      "\n",
      "$DF$ = [something complicated](https://onlinecourses.science.psu.edu/stat200/node/60)"
     ]
    },
    {
     "cell_type": "markdown",
     "metadata": {},
     "source": [
      "# Chapter 13\n",
      "\n",
      "#### ANOVA\n",
      "\n",
      "Assumptions:\n",
      "1. Normality of samples\n",
      "2. Homogeneity of variance between samples\n",
      "3. Independence of samples\n",
      "\n",
      "##### Testing Normality First\n",
      "\n",
      "- [Shapiro-Wilk](http://en.wikipedia.org/wiki/Shapiro%E2%80%93Wilk_test#cite_note-3) test is most commonly used\n",
      "- Shapiro\u2013Wilk has the best power for a given significance, followed closely by Anderson\u2013Darling when comparing the Shapiro\u2013Wilk, Kolmogorov\u2013Smirnov, Lilliefors, and Anderson\u2013Darling tests\n",
      "- Note that Anderson-Darling is a special case of the Kolmogorov\u2013Smirnov test\n",
      "- Biased by sample size so large N will likely lead to rejection of normality\n",
      "- Often followed by study of QQ plot as a second check"
     ]
    },
    {
     "cell_type": "code",
     "collapsed": false,
     "input": [
      "from scipy.stats import shapiro, anderson\n",
      "\n",
      "d = dict( [ (i, np.random.beta(10, 10 + i**3, 500)) for i in range(5) ])\n",
      "d = pd.DataFrame(d)\n",
      "\n",
      "fig, (ax1, ax2) = plt.subplots(1, 2)\n",
      "fig.set_size_inches((18,4))\n",
      "\n",
      "labels = lambda x, p: ['{}={:.3f} ({})'.format(i, p.loc[i][1], 'not normal' if p.loc[i][1] < .05 else 'normal') for i in x]\n",
      "d.plot(kind='kde', ax=ax1)\n",
      "ax1.legend(labels(d, d.apply(shapiro)))\n",
      "ax1.set_title('Shapiro-Wilk')\n",
      "\n",
      "labels = lambda x, p: ['{} ({})'.format(i, 'not normal' if p.loc[i][0] > p.loc[i][1][2] else 'normal') for i in x]\n",
      "d.plot(kind='kde', ax=ax2)\n",
      "ax2.legend(labels(d, d.apply(anderson)))\n",
      "ax2.set_title('Anderson-Darling')\n"
     ],
     "language": "python",
     "metadata": {},
     "outputs": [
      {
       "metadata": {},
       "output_type": "pyout",
       "prompt_number": 99,
       "text": [
        "<matplotlib.text.Text at 0x1147e4710>"
       ]
      },
      {
       "metadata": {},
       "output_type": "display_data",
       "png": "[encoded data removed]",
       "text": [
        "<matplotlib.figure.Figure at 0x1129a7a50>"
       ]
      }
     ],
     "prompt_number": 99
    },
    {
     "cell_type": "markdown",
     "metadata": {},
     "source": [
      "##### Testing Homogeneity of Variance First\n",
      "\n",
      "- Common tests are [Brown-Forsythe](http://en.wikipedia.org/wiki/Brown%E2%80%93Forsythe_test) (uses median) and [Levene's Test](http://en.wikipedia.org/wiki/Levene%27s_test) (uses mean)\n",
      "- Levene's test (ie the mean) works better for symmetric distributions while Brown-Forsythe (ie the median) is better for skewed distributions\n",
      "- [Bartlett's Test](http://en.wikipedia.org/wiki/Bartlett%27s_test) is another possibility but it is highly sensitive to non-normality (Bartlett's test is an extension of the [F-Test For Equal Variance Test](http://en.wikipedia.org/wiki/F-test_of_equality_of_variances) to more than 2 groups)\n"
     ]
    },
    {
     "cell_type": "code",
     "collapsed": false,
     "input": [],
     "language": "python",
     "metadata": {},
     "outputs": []
    },
    {
     "cell_type": "markdown",
     "metadata": {},
     "source": [
      "##### Running the ANOVA"
     ]
    },
    {
     "cell_type": "code",
     "collapsed": false,
     "input": [
      "from sklearn.datasets import load_iris\n",
      "from scipy.stats import f_oneway\n",
      "import pandas\n",
      "\n",
      "dl = load_iris()\n",
      "d = pd.DataFrame(dl.data, columns=dl.feature_names)\n",
      "#d['data']\n",
      "#d.target\n",
      "#f_oneway()"
     ],
     "language": "python",
     "metadata": {},
     "outputs": [
      {
       "ename": "NameError",
       "evalue": "name 'pd' is not defined",
       "output_type": "pyerr",
       "traceback": [
        "\u001b[0;31m---------------------------------------------------------------------------\u001b[0m\n\u001b[0;31mNameError\u001b[0m                                 Traceback (most recent call last)",
        "\u001b[0;32m<ipython-input-9-76dbbd600aa6>\u001b[0m in \u001b[0;36m<module>\u001b[0;34m()\u001b[0m\n\u001b[1;32m      4\u001b[0m \u001b[0;34m\u001b[0m\u001b[0m\n\u001b[1;32m      5\u001b[0m \u001b[0mdl\u001b[0m \u001b[0;34m=\u001b[0m \u001b[0mload_iris\u001b[0m\u001b[0;34m(\u001b[0m\u001b[0;34m)\u001b[0m\u001b[0;34m\u001b[0m\u001b[0m\n\u001b[0;32m----> 6\u001b[0;31m \u001b[0md\u001b[0m \u001b[0;34m=\u001b[0m \u001b[0mpd\u001b[0m\u001b[0;34m.\u001b[0m\u001b[0mDataFrame\u001b[0m\u001b[0;34m(\u001b[0m\u001b[0mdl\u001b[0m\u001b[0;34m.\u001b[0m\u001b[0mdata\u001b[0m\u001b[0;34m,\u001b[0m \u001b[0mcolumns\u001b[0m\u001b[0;34m=\u001b[0m\u001b[0mdl\u001b[0m\u001b[0;34m.\u001b[0m\u001b[0mfeature_names\u001b[0m\u001b[0;34m)\u001b[0m\u001b[0;34m\u001b[0m\u001b[0m\n\u001b[0m\u001b[1;32m      7\u001b[0m \u001b[0;31m#d['data']\u001b[0m\u001b[0;34m\u001b[0m\u001b[0;34m\u001b[0m\u001b[0m\n\u001b[1;32m      8\u001b[0m \u001b[0;31m#d.target\u001b[0m\u001b[0;34m\u001b[0m\u001b[0;34m\u001b[0m\u001b[0m\n",
        "\u001b[0;31mNameError\u001b[0m: name 'pd' is not defined"
       ]
      }
     ],
     "prompt_number": 9
    },
    {
     "cell_type": "markdown",
     "metadata": {},
     "source": [
      "# Chapter 14"
     ]
    },
    {
     "cell_type": "markdown",
     "metadata": {},
     "source": [
      "#### Chi-Square Test\n",
      "\n",
      "- Used to determine if categorized values came from theoretical distribution (e.g. is a die fair?)\n",
      "- Simple calculation that can be used to avoid many PMF calculations of multinomial distribution\n",
      "- Sampling statistic, $X^2$, is $\\chi^2_k$ where $k$ = number of cells or categories - 1 (can be more complicated if parameter estimates are needed as part of \"goodness-of-fit\" tests)\n",
      "- Calculation of statistic:\n",
      "\n",
      "$X_i$ = observed count for category $i$<br>\n",
      "$E_i$ = expected count for category $i$ (aka $n * p_i$)\n",
      "\n",
      "$$ X^2 = \\sum_{i=1}^{k} \\frac{ (X_i - E_i) ^ 2 }{ E_i } \\sim \\chi^2 \\text{ with D.F. = }k - 1$$\n",
      "\n",
      "- Can also be used to determine if the frequency data can be used to reject a hypothesis about the distribution from which the data came.  For example, if given the number of accidents at an intersection over 50 weeks, by week, and the need to test if that data arises from a poisson process, then the Pearson Chi-Square statistic can be used.\n",
      "\n",
      "In this case, the parameter of the poisson distribution must first be estimated using the data and the theoretical frequencies for each number of accidents in a week must be computed using that estimate.  For example if the number of weeks with 0 accidents is 32, 1 accident is 12 and 2 accidents is 6 (a total of 50 weeks and 24 accidents), then the parameter estimate $\\lambda$ is 24 / 50 = .48.\n",
      "\n",
      "This parameter estimate can then be used to calculate the expected number of weeks for each accident count and then tested using the Chi-square statistic.\n",
      "\n",
      "In this case, the D.F. is equal to $k - m - 1 = 3 - 1 - 1 = 1$ where $k$ is the number of groups and $m$ the number of parameters estimated."
     ]
    },
    {
     "cell_type": "markdown",
     "metadata": {},
     "source": [
      "# Chapter 15"
     ]
    },
    {
     "cell_type": "markdown",
     "metadata": {},
     "source": [
      "#### Nonparametric Testing"
     ]
    },
    {
     "cell_type": "markdown",
     "metadata": {},
     "source": [
      "_matched pair tests_\n",
      "\n",
      "#### Sign Test\n",
      "\n",
      "- Assume that the difference between paired samples will be >0 with probability 1/2\n",
      "- Measure number of positive and negative differences \n",
      "- Determine if binomial probability of occurrences is sufficiently low (assume rejection region is lower tails of binomial distribution with $p = 1/2$)\n",
      "\n",
      "#### Wilcoxon Signed Rank Test\n",
      "\n",
      "- Differences between values are sorted (by absolute value) and assigned ranks from 1 to $n$\n",
      "- The ranks of negative and positive values are summed to give statistics $T^+$ and $T^-$\n",
      "- For a two-tailed test, $T = min(T^+, T^-)$\n",
      "- For a one-tailed test, use $T^-$ if testing for shift right\n",
      "\n",
      "- For $n$ < 25, a table of critical values must be used\n",
      "- For $n$ > 25, the following $Z$ statistic can be used:\n",
      "\n",
      "$$ Z = \\frac{T^+ - E(T^+)}{\\sqrt{V(T^+)}} \\text{ where } E(T^+) = n(n+1)/4, V(T^+) = \\frac{n(n+1)(2n+1)}{24}$$ \n",
      "\n",
      "_2 independent samples_\n",
      "\n",
      "#### Mann-Whitney U Test (aka Wilcoxon Rank Sum Test)\n",
      "\n",
      "- The statistic in question is $U$\n",
      "- $U$ can be calculated two ways, after first ordering and ranking both samples ($S_1$ and $S_2$):\n",
      "    1. $U_1 = $ For every item in $S_2$, add up the number of items in $S_1$ that are smaller and add to running total for each item in $S_2$\n",
      "    2. $U_1 = n_1n_2 + \\frac{n_1(n_1 + 1)}{2} - W_1$ where $W_1$ is the sum of ranks for items in $S_1$\n",
      "- For $n_1 < 10$ OR $n_2 < 10$, the two-tailed rejection region must be found using a lookup table for the $U$ value determined as the minimum of $U_1$ and $U_2$ (or one of them for a one-tailed test)\n",
      "- For larger samples, $n_1 > 10$ AND $n_2 > 10$, the following statistic can be used since $U$ has an approximately normal distribution:\n",
      "$$ Z = \\frac{U_1 - (n_1n_2 / 2)}{\\sqrt{n_1n_2(n_1 + n_2 + 1)/12}} $$\n",
      "\n",
      "_multiple independent samples_\n",
      "\n",
      "#### Kruskal-Wallis Test\n",
      "\n",
      "\n",
      "- \"When parametric assumptions are met, the KW test is 3/\u03c0 as powerful as one-way ANOVA\" ([source](http://stats.stackexchange.com/questions/76059/difference-between-anova-and-kruskal-wallis-test))\n",
      "- If data sets fail a test for normality and pass tests for equal variance, then KW is the right choice\n",
      "- If data sets fail homogeneity of variance tests:\n",
      "    - KW cannot always be used since it assumes that the data sets come from the _SAME_ distributions except for their location\n",
      "    - Transforming the data may restore equal variances\n",
      "    - See [this post](http://graphpad.com/support/faq/what-to-do-when-data-fail-tests-for-homogeneity-of-variance/) for possibilities"
     ]
    },
    {
     "cell_type": "markdown",
     "metadata": {},
     "source": [
      "# Chapter 16\n",
      "### Design of Experiments\n",
      "\n",
      "\n",
      "#### Sample Sizes\n",
      "- Given a choice between the number of samples from two distributions needed to minimize the \"error\" on the inference from an experiement, a common approach is to minimize the standard error used in a test statistic\n",
      "    - For example, given the ability to vary $n$ samples amongst two groups where $n_1 + n_2 = n$, the standard error can be seen as:\n",
      "    $$ \\sigma_{\\bar{Y_1} - \\bar{Y_2}} = \\sqrt{ \\frac{\\sigma_1^2}{cn} +  \\frac{\\sigma_1^2}{(1-c)n} }$$\n",
      "      Differentiating and setting to 0 to optimize will show that the variance is minimized when $n_1 = (\\frac{\\sigma_1}{\\sigma_1 + \\sigma_2}) \\cdot n$\n",
      "   \n",
      "#### Matched Pairs Experiments\n",
      "- Intuition for why matched pairs experiments are better:\n",
      "    - The variance of the differences between the groups (where $D = Y_1 - Y_2$) is defined as:\n",
      "    $$ \\sigma_{D}^2 = \\sigma_{Y_1 - Y_2}^2 = \\sigma_{Y_1}^2 + \\sigma_{Y_2}^2 - 2\\rho \\sigma_1 \\sigma_2 $$\n",
      "    - Pairings introduce a __positive correlation__ between items in the two samples such that the unpooled variance goes __down__.  See above where a positive $\\rho$ will decrease the variance amongst the differences.\n",
      "    - If the experimental units are not paired and are independent, $\\rho$ is 0 ensuring that the cumulative variance is greater than than for when $\\rho > 0$.\n",
      "- The above implies that matched pairs experiments are:\n",
      "    - Good when the correlation between sample points, $\\rho$, is positive\n",
      "    - Bad when $\\rho$ is negative (i.e. independent samples are better)\n",
      "    - Equivalent to independent samples when $\\rho = 0$\n"
     ]
    },
    {
     "cell_type": "markdown",
     "metadata": {},
     "source": [
      "# Miscellaneous"
     ]
    },
    {
     "cell_type": "markdown",
     "metadata": {},
     "source": [
      "#### Binomial Tests\n",
      "\n",
      "Assume we have 57 successes of 150 trials where p = .3 and want to test alternative that p is greater than .3.  Note in the following how the \"alternative\" includes the observed value so $p$ is the probability of seeing values _at least_ as extreme:"
     ]
    },
    {
     "cell_type": "code",
     "collapsed": false,
     "input": [
      "from scipy.stats import binom\n",
      "\n",
      "p = [\n",
      "1 - np.sum(binom.pmf(range(57), 150, .3)),\n",
      "np.sum(binom.pmf(range(57, 150), 150, .3))\n",
      "]\n",
      "p # Ho rejected"
     ],
     "language": "python",
     "metadata": {},
     "outputs": [
      {
       "metadata": {},
       "output_type": "pyout",
       "prompt_number": 129,
       "text": [
        "[0.021863850455484668, 0.02186385045559406]"
       ]
      }
     ],
     "prompt_number": 129
    },
    {
     "cell_type": "markdown",
     "metadata": {},
     "source": [
      "#### Fitting Distributions"
     ]
    },
    {
     "cell_type": "markdown",
     "metadata": {},
     "source": [
      "Err .. there really doesn't seem to be anything great for this in python.  See the same section in stats_r.ipynb instead"
     ]
    },
    {
     "cell_type": "markdown",
     "metadata": {},
     "source": [
      "\n",
      "$\\lim_{i \\to \\infty}$"
     ]
    },
    {
     "cell_type": "code",
     "collapsed": false,
     "input": [
      "h, l, n = 1000000, 1000, 1000\n",
      "r = h - l\n",
      "x = np.linspace(l, h, n)\n",
      "y = .4 + .2 * np.linspace(1, r, n) / float(r)\n",
      "ax = pd.DataFrame({'Population': x, '$\\hat{p}$' :  y}).set_index('Population').plot(ylim=(0, 1), xlim=(l, h))\n",
      "ax.set_ylabel('Democratic Proportion')\n",
      "ax.set_xlabel('County Population')\n",
      "ax.set_title('Democrats vs Population')\n",
      "ax.hlines(.58, xmin=l, xmax=h, linestyles='--')\n",
      "ax.text(h + .02*r, .58, 'Upper $\\gamma$ level bound')\n",
      "ax.hlines(.42, xmin=l, xmax=h, linestyles='--')\n",
      "ax.text(h + .02*r, .42, 'Lower $\\gamma$ level bound')\n",
      "\n",
      "Hist\n",
      "#legend= ax.legend()\n",
      "#legend.set_visible(False)"
     ],
     "language": "python",
     "metadata": {},
     "outputs": [
      {
       "metadata": {},
       "output_type": "pyout",
       "prompt_number": 148,
       "text": [
        "<matplotlib.text.Text at 0x116f7b690>"
       ]
      },
      {
       "metadata": {},
       "output_type": "display_data",
       "png": "[encoded data removed]",
       "text": [
        "<matplotlib.figure.Figure at 0x116944f90>"
       ]
      }
     ],
     "prompt_number": 148
    },
    {
     "cell_type": "code",
     "collapsed": false,
     "input": [],
     "language": "python",
     "metadata": {},
     "outputs": []
    }
   ],
   "metadata": {}
  }
 ]
}