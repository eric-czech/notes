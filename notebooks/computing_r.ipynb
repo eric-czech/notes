{
 "metadata": {
  "name": "",
  "signature": "sha256:65d05ca57458c737d6cd41e681bcee026e4ba127620f7cf4d0bcd6d688458e44"
 },
 "nbformat": 3,
 "nbformat_minor": 0,
 "worksheets": [
  {
   "cells": [
    {
     "cell_type": "markdown",
     "metadata": {},
     "source": [
      "* * * \n",
      "##<center>Notes on Caret</center>\n",
      "\n",
      "## Using Feature Selection\n",
      "\n",
      "Example:\n",
      "\n",
      "```\n",
      "mySBF <- lmSBF\n",
      "mySBF$filter <- function(score, x, y) { score <= 10e-6 }\n",
      "fit <- sbf(form = Class ~ .,\n",
      "           data = simdata, \n",
      "           method = \"svmLinear\",\n",
      "           trControl = trainControl(method = \"cv\", number = 2, classProbs = TRUE),\n",
      "           tuneGrid = data.frame(C = c(0.25, 0.5)),\n",
      "           preProc = c(\"center\", \"scale\"),\n",
      "           sbfControl = sbfControl(\n",
      "               functions = mySBF, method = 'repeatedcv',\n",
      "               number = 4, repeats = 10)\n",
      "       )\n",
      "```\n",
      "\n",
      "In this case, the ```sbfControl``` settings take care of the outer cross validation where for each fold the feature selection routine is applied.  The given estimator is then trained on each of those folds possibly with another level of CV to train over hyperparameters.  Note that in the case of one hyperparameter (i.e. a static model), the **method** arg in ```trainControl``` can be set to 'none'.  The same is not true for ```sbfControl``` however as the outer CV is necessary."
     ]
    },
    {
     "cell_type": "markdown",
     "metadata": {},
     "source": [
      "* * * \n",
      "##<center>Binary Target Class in Caret</center>\n",
      "\n",
      "- With a binary problem, different libraries decide which class is the \"target\" or \"positive\" class differently\n",
      "- caretEnsemble had been defaulting to the second level in a response factor until this [PR](https://github.com/zachmayer/caretEnsemble/pull/190/files)\n",
      "- caret uses the first level in the factor by default\n",
      "- glmnet uses the last level when sorted alphabetically as target"
     ]
    },
    {
     "cell_type": "code",
     "collapsed": false,
     "input": [],
     "language": "python",
     "metadata": {},
     "outputs": []
    }
   ],
   "metadata": {}
  }
 ]
}